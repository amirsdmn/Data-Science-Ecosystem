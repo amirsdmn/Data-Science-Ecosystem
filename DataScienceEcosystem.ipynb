{
 "cells": [
  {
   "cell_type": "markdown",
   "id": "5f1a676c-eb40-4ec8-808f-3cfdfe1a95a1",
   "metadata": {},
   "source": [
    "# Data Science Tools and Ecosystem"
   ]
  },
  {
   "cell_type": "markdown",
   "id": "38f0b5aa-3e9f-431c-9b27-daf4b1f134c2",
   "metadata": {},
   "source": [
    "In this notebook, Data Science Tools and Ecosystem are summarized."
   ]
  },
  {
   "cell_type": "markdown",
   "id": "605fa9a9-a5f9-46be-9e2a-8cb5e1a8d332",
   "metadata": {},
   "source": [
    "**Objectives**\n",
    "- Poupoular Languages for Data Science\n",
    "- Coummun librairies for Data Science\n",
    "- Data Science Tools\n",
    "- Arithmetic expressions\n"
   ]
  },
  {
   "cell_type": "markdown",
   "id": "5e973ea3-611b-4417-b944-c4c18faa8f0f",
   "metadata": {},
   "source": [
    "##### Some of the popular languages that Data Scientists use are:\n",
    "1. Python\n",
    "2. R\n",
    "3. SQL\n",
    "4. Scala"
   ]
  },
  {
   "cell_type": "markdown",
   "id": "e707f570-3dee-4bdb-aa33-a1a815ae4210",
   "metadata": {},
   "source": [
    "##### Some of the communly used librairies used by Data Scientists include: \n",
    "1. Pandas\n",
    "2. NumPy\n",
    "3. Matplotlib"
   ]
  },
  {
   "cell_type": "markdown",
   "id": "b243f324-6398-4d67-b0a0-624ccca3c947",
   "metadata": {},
   "source": [
    "| Data Science Tools |\n",
    "|--------------------|\n",
    "| JupyterLab |\n",
    "| Rstudio |\n",
    "| Apache Sparks |\n"
   ]
  },
  {
   "cell_type": "markdown",
   "id": "128722a4-b0ef-43bb-a440-e44c86dd41bf",
   "metadata": {},
   "source": [
    "### Below are a few examples of evaluating arithmetics expressions in Python"
   ]
  },
  {
   "cell_type": "code",
   "execution_count": 13,
   "id": "965f7481-7087-422b-9764-d71913d45b68",
   "metadata": {},
   "outputs": [
    {
     "data": {
      "text/plain": [
       "17"
      ]
     },
     "execution_count": 13,
     "metadata": {},
     "output_type": "execute_result"
    }
   ],
   "source": [
    "# This a simple arithmetic expression to multiply then add integers\n",
    "(3*4)+5"
   ]
  },
  {
   "cell_type": "code",
   "execution_count": 14,
   "id": "362ec419-f21c-4d5a-b04c-67ae7cd9f322",
   "metadata": {},
   "outputs": [
    {
     "data": {
      "text/plain": [
       "3.3333333333333335"
      ]
     },
     "execution_count": 14,
     "metadata": {},
     "output_type": "execute_result"
    }
   ],
   "source": [
    "# This will convert 200 minutes to hour by dividing by 60\n",
    "200/60"
   ]
  },
  {
   "cell_type": "markdown",
   "id": "6a09c769-dfcf-42a3-84eb-de51d6773cf0",
   "metadata": {},
   "source": [
    "## Author \n",
    "Amirhossein Asadmanesh"
   ]
  }
 ],
 "metadata": {
  "kernelspec": {
   "display_name": "Python 3 (ipykernel)",
   "language": "python",
   "name": "python3"
  },
  "language_info": {
   "codemirror_mode": {
    "name": "ipython",
    "version": 3
   },
   "file_extension": ".py",
   "mimetype": "text/x-python",
   "name": "python",
   "nbconvert_exporter": "python",
   "pygments_lexer": "ipython3",
   "version": "3.11.7"
  }
 },
 "nbformat": 4,
 "nbformat_minor": 5
}
